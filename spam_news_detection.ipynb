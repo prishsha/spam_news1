{
 "cells": [
  {
   "cell_type": "code",
   "execution_count": 18,
   "metadata": {},
   "outputs": [
    {
     "name": "stderr",
     "output_type": "stream",
     "text": [
      "[nltk_data] Downloading package stopwords to\n",
      "[nltk_data]     C:\\Users\\amitv\\AppData\\Roaming\\nltk_data...\n",
      "[nltk_data]   Package stopwords is already up-to-date!\n",
      "[nltk_data] Downloading package wordnet to\n",
      "[nltk_data]     C:\\Users\\amitv\\AppData\\Roaming\\nltk_data...\n",
      "[nltk_data]   Package wordnet is already up-to-date!\n"
     ]
    },
    {
     "data": {
      "text/plain": [
       "0.57675"
      ]
     },
     "execution_count": 18,
     "metadata": {},
     "output_type": "execute_result"
    }
   ],
   "source": [
    "#Importing the libararies\n",
    "import numpy as np\n",
    "import pandas as pd\n",
    "\n",
    "#Importing the datasets\n",
    "True_news = pd.read_csv('True.csv')\n",
    "Fake_news=pd.read_csv('Fake.csv')\n",
    "\n",
    "#Adding Label\n",
    "True_news['label']=1\n",
    "Fake_news['label']=0\n",
    "\n",
    "dataset1=True_news[['text', 'label']]\n",
    "dataset2=Fake_news[['text', 'label']]\n",
    "dataset=pd.concat([dataset1, dataset2])\n",
    "\n",
    "#Checking for null values\n",
    "dataset.isnull().sum()\n",
    "\n",
    "#Shuffling the dataset\n",
    "dataset=dataset.sample(frac=1)\n",
    "\n",
    "#NLP\n",
    "import nltk\n",
    "import re\n",
    "from nltk.corpus import stopwords\n",
    "from nltk.stem import WordNetLemmatizer\n",
    "\n",
    "ps = WordNetLemmatizer\n",
    "nltk.download('stopwords')\n",
    "stopwords_set = set(stopwords.words('english'))\n",
    "nltk.download('wordnet')\n",
    "\n",
    "def clean_row(row):\n",
    "    row=row.lower()\n",
    "    row=re.sub('[^a-zA-Z]',' ',row)\n",
    "    token=row.split()\n",
    "    \n",
    "    news=[WordNetLemmatizer.lemmatize(ps, word) for word in token if not word in stopwords_set]\n",
    "\n",
    "    return ' '.join(news)\n",
    "\n",
    "dataset['text']=dataset['text'].apply(lambda x: clean_row(x))\n",
    "\n",
    "from sklearn.feature_extraction.text import TfidfVectorizer\n",
    "vectorizer = TfidfVectorizer(max_features=50000, lowercase=False, ngram_range=(1,2))\n",
    "\n",
    "#Splitting the dataset\n",
    "X=dataset.iloc[:20000, 0]\n",
    "Y=dataset.iloc[:20000, 1]\n",
    "\n",
    "from sklearn.model_selection import train_test_split\n",
    "train_data, test_data, train_label, test_label = train_test_split(X, Y, test_size=0.2, random_state=0)\n",
    "\n",
    "vec_train_data= vectorizer.fit_transform(train_data)\n",
    "vec_train_data= vec_train_data.toarray()\n",
    "\n",
    "vec_test_data= vectorizer.fit_transform(test_data)\n",
    "vec_test_data= vec_test_data.toarray()\n",
    "\n",
    "train_data = pd.DataFrame(vec_train_data, columns=vectorizer.get_feature_names_out())\n",
    "testing_data=pd.DataFrame(vec_test_data, columns=vectorizer.get_feature_names_out())\n",
    "\n",
    "#NaiveBayes Model \n",
    "from sklearn.naive_bayes import MultinomialNB\n",
    "clf=MultinomialNB()\n",
    "clf.fit(train_data, train_label)\n",
    "y_pred = clf.predict(testing_data)\n",
    "\n",
    "#Checking accuracy of model\n",
    "from sklearn.metrics import accuracy_score\n",
    "accuracy_score(test_label, y_pred)\n",
    "\n",
    "\n",
    "\n",
    "\n",
    "\n"
   ]
  }
 ],
 "metadata": {
  "kernelspec": {
   "display_name": "base",
   "language": "python",
   "name": "python3"
  },
  "language_info": {
   "codemirror_mode": {
    "name": "ipython",
    "version": 3
   },
   "file_extension": ".py",
   "mimetype": "text/x-python",
   "name": "python",
   "nbconvert_exporter": "python",
   "pygments_lexer": "ipython3",
   "version": "3.11.4"
  }
 },
 "nbformat": 4,
 "nbformat_minor": 2
}
